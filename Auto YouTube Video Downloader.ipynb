{
  "nbformat": 4,
  "nbformat_minor": 0,
  "metadata": {
    "colab": {
      "name": "Download YouTube Videos - HG Raghavananda Dasa.ipynb",
      "provenance": [],
      "include_colab_link": true
    },
    "kernelspec": {
      "name": "python3",
      "display_name": "Python 3"
    },
    "language_info": {
      "name": "python"
    }
  },
  "cells": [
    {
      "cell_type": "markdown",
      "metadata": {
        "id": "view-in-github",
        "colab_type": "text"
      },
      "source": [
        "<a href=\"https://colab.research.google.com/github/samarthsoni17/ideal-ML-train/blob/workbench/Auto%20YouTube%20Video%20Downloader.ipynb\" target=\"_parent\"><img src=\"https://colab.research.google.com/assets/colab-badge.svg\" alt=\"Open In Colab\"/></a>"
      ]
    },
    {
      "cell_type": "markdown",
      "source": [
        "#### Install dependencies"
      ],
      "metadata": {
        "id": "OhfKUpJtry1n"
      }
    },
    {
      "cell_type": "code",
      "source": [
        "!pip install pytube"
      ],
      "metadata": {
        "colab": {
          "base_uri": "https://localhost:8080/"
        },
        "id": "hif9ZLI4U3vb",
        "outputId": "ba316232-567e-40a0-9d59-442ac4cbc808"
      },
      "execution_count": null,
      "outputs": [
        {
          "output_type": "stream",
          "name": "stdout",
          "text": [
            "Looking in indexes: https://pypi.org/simple, https://us-python.pkg.dev/colab-wheels/public/simple/\n",
            "Collecting pytube\n",
            "  Downloading pytube-12.1.0-py3-none-any.whl (56 kB)\n",
            "\u001b[K     |████████████████████████████████| 56 kB 2.6 MB/s \n",
            "\u001b[?25hInstalling collected packages: pytube\n",
            "Successfully installed pytube-12.1.0\n"
          ]
        }
      ]
    },
    {
      "cell_type": "code",
      "source": [
        "!pip install colorama"
      ],
      "metadata": {
        "colab": {
          "base_uri": "https://localhost:8080/"
        },
        "id": "Kl6cxycHU60a",
        "outputId": "86b4c063-7df9-46a5-bc21-e38df4e05cee"
      },
      "execution_count": null,
      "outputs": [
        {
          "output_type": "stream",
          "name": "stdout",
          "text": [
            "Looking in indexes: https://pypi.org/simple, https://us-python.pkg.dev/colab-wheels/public/simple/\n",
            "Collecting colorama\n",
            "  Downloading colorama-0.4.5-py2.py3-none-any.whl (16 kB)\n",
            "Installing collected packages: colorama\n",
            "Successfully installed colorama-0.4.5\n"
          ]
        }
      ]
    },
    {
      "cell_type": "markdown",
      "source": [
        "#### Import libraries"
      ],
      "metadata": {
        "id": "endHuuH2r2p1"
      }
    },
    {
      "cell_type": "code",
      "source": [
        "from pytube import YouTube\n",
        "from colorama import init, Fore\n",
        "import os"
      ],
      "metadata": {
        "id": "kinNNcEtVpOS"
      },
      "execution_count": null,
      "outputs": []
    },
    {
      "cell_type": "code",
      "source": [
        "from google.colab import drive\n",
        "from google.colab import files\n",
        "# drive.mount(\"/content/drive\")"
      ],
      "metadata": {
        "id": "z5cgBFJlaVZI"
      },
      "execution_count": null,
      "outputs": []
    },
    {
      "cell_type": "markdown",
      "source": [
        "#### testing"
      ],
      "metadata": {
        "id": "ta4Otcvcr5Ls"
      }
    },
    {
      "cell_type": "code",
      "source": [
        "# link = 'https://www.youtube.com/watch?v=oB1rlXRYfMY&ab_channel=AmarendraD%C4%81saOfficial'\n",
        "link = 'https://www.youtube.com/watch?v=Qi2Zdx7R7gs'\n",
        "video_object = YouTube(link)"
      ],
      "metadata": {
        "id": "M38y2ZU7Vt8e"
      },
      "execution_count": null,
      "outputs": []
    },
    {
      "cell_type": "code",
      "source": [
        "print(video_object.title)\n",
        "print(f'{video_object.length / 60} minutes')\n",
        "print(video_object.views)\n",
        "print(video_object.author)"
      ],
      "metadata": {
        "colab": {
          "base_uri": "https://localhost:8080/"
        },
        "id": "4-yzcunTWiN_",
        "outputId": "16cfb938-4ab0-4513-cc2d-d44ecb61ba04"
      },
      "execution_count": null,
      "outputs": [
        {
          "output_type": "stream",
          "name": "stdout",
          "text": [
            "अच्युतम केशवम कृष्ण भजन | ACHYUTAM KESHAVAM | POPULAR KRISHNA BHAJAN | VERY BEAUTIFUL SONG\n",
            "10.25 minutes\n",
            "1407011\n",
            "Hare Krsna TV\n"
          ]
        }
      ]
    },
    {
      "cell_type": "markdown",
      "source": [
        "#### Define Functions"
      ],
      "metadata": {
        "id": "CR6cjDz_r-LY"
      }
    },
    {
      "cell_type": "code",
      "source": [
        "def on_complete(stream, filepath):\n",
        "    print('download complete')\n",
        "    print(filepath)\n",
        " \n",
        "def on_progress(stream, chunk, bytes_remaining):\n",
        "    progress_string = f'{round(100 - (bytes_remaining / stream.filesize * 100),2)}%'\n",
        "    print(progress_string)\n"
      ],
      "metadata": {
        "id": "JMBwypXNVqWv"
      },
      "execution_count": null,
      "outputs": []
    },
    {
      "cell_type": "markdown",
      "source": [
        "#### Main Code Body"
      ],
      "metadata": {
        "id": "NzIn7D4ksItK"
      }
    },
    {
      "cell_type": "code",
      "source": [
        "dirpath = '/content/filesToDownload'\n",
        "    \n",
        "init()\n",
        "continue_choice = 'y'\n",
        "counter = 0\n",
        "while (continue_choice == 'y'):\n",
        "    link = input('Enter Youtube link of video to download: ')\n",
        "    video_object = YouTube(link, on_complete_callback = on_complete, on_progress_callback = on_progress)\n",
        "    \n",
        "    # information\n",
        "    print(Fore.RED + f'title:  \\033[39m {video_object.title}')\n",
        "    print(Fore.RED + f'length: \\033[39m {round(video_object.length / 60,2)} minutes')\n",
        "    print(Fore.RED + f'views:  \\033[39m {video_object.views / 1000000} million')\n",
        "    print(Fore.RED + f'author: \\033[39m {video_object.author}')\n",
        "    \n",
        "    # download\n",
        "    print(\n",
        "        Fore.RED + 'Download the file as: ' + \n",
        "        Fore.GREEN + '(b)est quality mp4 \\033[39m|' + \n",
        "        Fore.YELLOW + '(w)orst quality mp4 \\033[39m|' + \n",
        "        Fore.BLUE + '(a)udio mp3 \\033[39m')\n",
        "    download_choice = input('Your choice (b / w / a): ')\n",
        "\n",
        "    if (download_choice == 'b'):\n",
        "        video_object.streams.get_highest_resolution().download(dirpath)\n",
        "    elif (download_choice == 'w'):\n",
        "        video_object.streams.get_lowest_resolution().download(dirpath)\n",
        "    elif (download_choice == 'a'):\n",
        "        savePath = video_object.streams.get_audio_only().download(dirpath)\n",
        "        # save the file with different extension\n",
        "        base, ext = os.path.splitext(savePath)\n",
        "        new_file_name = base + '.mp3'\n",
        "        os.rename(savePath, new_file_name)\n",
        "\n",
        "    counter += 1\n",
        "    continue_choice = input('Do you have more videos to download? y for yes: ')\n",
        "\n",
        "print(f'{counter} videos have been processed and are ready to download')\n",
        "for filename in os.listdir(dirpath):\n",
        "    files.download(f'{dirpath}/{filename}')\n"
      ],
      "metadata": {
        "colab": {
          "base_uri": "https://localhost:8080/",
          "height": 268
        },
        "id": "02AJpYzsfqcu",
        "outputId": "516dd515-58a6-45a0-8517-c382a6f9ba91"
      },
      "execution_count": null,
      "outputs": [
        {
          "output_type": "stream",
          "name": "stdout",
          "text": [
            "Enter Youtube link of video to download: https://www.youtube.com/watch?v=V0oQcHrU2ko\n",
            "title:   मधुर राधे कृष्ण भजन | Radhe Jaya Jaya Madhav Dayite | Krishnas Bhajan | Soothing To The Heart\n",
            "length:  9.28 minutes\n",
            "views:   0.838012 million\n",
            "author:  Hare Krsna TV\n",
            "Download the file as: (b)est quality mp4 |(w)orst quality mp4 |(a)udio mp3 \n",
            "Your choice (b / w / a): a\n",
            "100.0%\n",
            "download complete\n",
            "/content/filesToDownload/मधुर राधे कृष्ण भजन  Radhe Jaya Jaya Madhav Dayite  Krishnas Bhajan  Soothing To The Heart.mp4\n",
            "Do you have more videos to download? y for yes: n\n",
            "1 videos have been processed and are ready to download\n"
          ]
        },
        {
          "output_type": "display_data",
          "data": {
            "text/plain": [
              "<IPython.core.display.Javascript object>"
            ],
            "application/javascript": [
              "\n",
              "    async function download(id, filename, size) {\n",
              "      if (!google.colab.kernel.accessAllowed) {\n",
              "        return;\n",
              "      }\n",
              "      const div = document.createElement('div');\n",
              "      const label = document.createElement('label');\n",
              "      label.textContent = `Downloading \"${filename}\": `;\n",
              "      div.appendChild(label);\n",
              "      const progress = document.createElement('progress');\n",
              "      progress.max = size;\n",
              "      div.appendChild(progress);\n",
              "      document.body.appendChild(div);\n",
              "\n",
              "      const buffers = [];\n",
              "      let downloaded = 0;\n",
              "\n",
              "      const channel = await google.colab.kernel.comms.open(id);\n",
              "      // Send a message to notify the kernel that we're ready.\n",
              "      channel.send({})\n",
              "\n",
              "      for await (const message of channel.messages) {\n",
              "        // Send a message to notify the kernel that we're ready.\n",
              "        channel.send({})\n",
              "        if (message.buffers) {\n",
              "          for (const buffer of message.buffers) {\n",
              "            buffers.push(buffer);\n",
              "            downloaded += buffer.byteLength;\n",
              "            progress.value = downloaded;\n",
              "          }\n",
              "        }\n",
              "      }\n",
              "      const blob = new Blob(buffers, {type: 'application/binary'});\n",
              "      const a = document.createElement('a');\n",
              "      a.href = window.URL.createObjectURL(blob);\n",
              "      a.download = filename;\n",
              "      div.appendChild(a);\n",
              "      a.click();\n",
              "      div.remove();\n",
              "    }\n",
              "  "
            ]
          },
          "metadata": {}
        },
        {
          "output_type": "display_data",
          "data": {
            "text/plain": [
              "<IPython.core.display.Javascript object>"
            ],
            "application/javascript": [
              "download(\"download_0f112f33-f841-4833-b7e3-d6fc4baa3a0e\", \"\\u092e\\u0927\\u0941\\u0930 \\u0930\\u093e\\u0927\\u0947 \\u0915\\u0943\\u0937\\u094d\\u0923 \\u092d\\u091c\\u0928  Radhe Jaya Jaya Madhav Dayite  Krishnas Bhajan  Soothing To The Heart.mp4\", 9018912)"
            ]
          },
          "metadata": {}
        }
      ]
    }
  ]
}