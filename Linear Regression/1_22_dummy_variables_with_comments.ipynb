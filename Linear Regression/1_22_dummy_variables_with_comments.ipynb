{
  "nbformat": 4,
  "nbformat_minor": 0,
  "metadata": {
    "kernelspec": {
      "display_name": "Python 3",
      "language": "python",
      "name": "python3"
    },
    "language_info": {
      "codemirror_mode": {
        "name": "ipython",
        "version": 3
      },
      "file_extension": ".py",
      "mimetype": "text/x-python",
      "name": "python",
      "nbconvert_exporter": "python",
      "pygments_lexer": "ipython3",
      "version": "3.6.4"
    },
    "colab": {
      "name": "1_22_dummy-variables-with-comments.ipynb",
      "provenance": [],
      "include_colab_link": true
    }
  },
  "cells": [
    {
      "cell_type": "markdown",
      "metadata": {
        "id": "view-in-github",
        "colab_type": "text"
      },
      "source": [
        "<a href=\"https://colab.research.google.com/github/samarthsoni17/ideal-ML-train/blob/workbench/Linear%20Regression/1_22_dummy_variables_with_comments.ipynb\" target=\"_parent\"><img src=\"https://colab.research.google.com/assets/colab-badge.svg\" alt=\"Open In Colab\"/></a>"
      ]
    },
    {
      "cell_type": "markdown",
      "metadata": {
        "id": "QQrNtqsKf1J2"
      },
      "source": [
        "# Dummy variables or how to deal with categorical predictors"
      ]
    },
    {
      "cell_type": "markdown",
      "metadata": {
        "id": "vJ5YtN8Nf1KA"
      },
      "source": [
        "## Import the relevant libraries"
      ]
    },
    {
      "cell_type": "code",
      "metadata": {
        "colab": {
          "base_uri": "https://localhost:8080/"
        },
        "id": "TpqBA762f1KB",
        "outputId": "f50ccd6c-ffb6-4d55-e21b-1f3a87f1a02d"
      },
      "source": [
        "import numpy as np\n",
        "import pandas as pd\n",
        "import statsmodels.api as sm\n",
        "import matplotlib.pyplot as plt\n",
        "import seaborn as sns\n",
        "# We can override the default matplotlib styles with those of Seaborn\n",
        "sns.set()"
      ],
      "execution_count": null,
      "outputs": [
        {
          "output_type": "stream",
          "name": "stderr",
          "text": [
            "/usr/local/lib/python3.7/dist-packages/statsmodels/tools/_testing.py:19: FutureWarning: pandas.util.testing is deprecated. Use the functions in the public API at pandas.testing instead.\n",
            "  import pandas.util.testing as tm\n"
          ]
        }
      ]
    },
    {
      "cell_type": "markdown",
      "metadata": {
        "id": "7_oX9gaif1KD"
      },
      "source": [
        "## Load the data"
      ]
    },
    {
      "cell_type": "code",
      "metadata": {
        "colab": {
          "base_uri": "https://localhost:8080/"
        },
        "id": "lxpbnhFCf1KF",
        "outputId": "0622219b-216d-48e3-ad55-db5f356f676a"
      },
      "source": [
        "# Load the data from a .csv in the same folder. \n",
        "# From Google Drive\n",
        "from google.colab import drive\n",
        "drive.mount('/content/drive')\n",
        "\n",
        "#Since we will do some preprocessing, the variable is not called 'data' just yet!\n",
        "path = '/content/drive/MyDrive/Colab Notebooks/Datasets/365DSc/Linear Regression/1_22_dummy-variables-dataset/1.03. Dummies.csv'\n",
        "raw_data = pd.read_csv(path)"
      ],
      "execution_count": null,
      "outputs": [
        {
          "output_type": "stream",
          "name": "stdout",
          "text": [
            "Drive already mounted at /content/drive; to attempt to forcibly remount, call drive.mount(\"/content/drive\", force_remount=True).\n"
          ]
        }
      ]
    },
    {
      "cell_type": "code",
      "metadata": {
        "scrolled": true,
        "colab": {
          "base_uri": "https://localhost:8080/",
          "height": 419
        },
        "id": "4FPhB1NKf1KG",
        "outputId": "348b54fb-04c4-4839-c638-56ca677e4ce9"
      },
      "source": [
        "# Let's check what's inside this data frame\n",
        "# Attendance: No means less than 75% attendance, Yes means > 75%\n",
        "raw_data"
      ],
      "execution_count": null,
      "outputs": [
        {
          "output_type": "execute_result",
          "data": {
            "text/html": [
              "<div>\n",
              "<style scoped>\n",
              "    .dataframe tbody tr th:only-of-type {\n",
              "        vertical-align: middle;\n",
              "    }\n",
              "\n",
              "    .dataframe tbody tr th {\n",
              "        vertical-align: top;\n",
              "    }\n",
              "\n",
              "    .dataframe thead th {\n",
              "        text-align: right;\n",
              "    }\n",
              "</style>\n",
              "<table border=\"1\" class=\"dataframe\">\n",
              "  <thead>\n",
              "    <tr style=\"text-align: right;\">\n",
              "      <th></th>\n",
              "      <th>SAT</th>\n",
              "      <th>GPA</th>\n",
              "      <th>Attendance</th>\n",
              "    </tr>\n",
              "  </thead>\n",
              "  <tbody>\n",
              "    <tr>\n",
              "      <th>0</th>\n",
              "      <td>1714</td>\n",
              "      <td>2.40</td>\n",
              "      <td>No</td>\n",
              "    </tr>\n",
              "    <tr>\n",
              "      <th>1</th>\n",
              "      <td>1664</td>\n",
              "      <td>2.52</td>\n",
              "      <td>No</td>\n",
              "    </tr>\n",
              "    <tr>\n",
              "      <th>2</th>\n",
              "      <td>1760</td>\n",
              "      <td>2.54</td>\n",
              "      <td>No</td>\n",
              "    </tr>\n",
              "    <tr>\n",
              "      <th>3</th>\n",
              "      <td>1685</td>\n",
              "      <td>2.74</td>\n",
              "      <td>No</td>\n",
              "    </tr>\n",
              "    <tr>\n",
              "      <th>4</th>\n",
              "      <td>1693</td>\n",
              "      <td>2.83</td>\n",
              "      <td>No</td>\n",
              "    </tr>\n",
              "    <tr>\n",
              "      <th>...</th>\n",
              "      <td>...</td>\n",
              "      <td>...</td>\n",
              "      <td>...</td>\n",
              "    </tr>\n",
              "    <tr>\n",
              "      <th>79</th>\n",
              "      <td>1936</td>\n",
              "      <td>3.71</td>\n",
              "      <td>Yes</td>\n",
              "    </tr>\n",
              "    <tr>\n",
              "      <th>80</th>\n",
              "      <td>1810</td>\n",
              "      <td>3.71</td>\n",
              "      <td>Yes</td>\n",
              "    </tr>\n",
              "    <tr>\n",
              "      <th>81</th>\n",
              "      <td>1987</td>\n",
              "      <td>3.73</td>\n",
              "      <td>No</td>\n",
              "    </tr>\n",
              "    <tr>\n",
              "      <th>82</th>\n",
              "      <td>1962</td>\n",
              "      <td>3.76</td>\n",
              "      <td>Yes</td>\n",
              "    </tr>\n",
              "    <tr>\n",
              "      <th>83</th>\n",
              "      <td>2050</td>\n",
              "      <td>3.81</td>\n",
              "      <td>Yes</td>\n",
              "    </tr>\n",
              "  </tbody>\n",
              "</table>\n",
              "<p>84 rows × 3 columns</p>\n",
              "</div>"
            ],
            "text/plain": [
              "     SAT   GPA Attendance\n",
              "0   1714  2.40         No\n",
              "1   1664  2.52         No\n",
              "2   1760  2.54         No\n",
              "3   1685  2.74         No\n",
              "4   1693  2.83         No\n",
              "..   ...   ...        ...\n",
              "79  1936  3.71        Yes\n",
              "80  1810  3.71        Yes\n",
              "81  1987  3.73         No\n",
              "82  1962  3.76        Yes\n",
              "83  2050  3.81        Yes\n",
              "\n",
              "[84 rows x 3 columns]"
            ]
          },
          "metadata": {},
          "execution_count": 59
        }
      ]
    },
    {
      "cell_type": "markdown",
      "metadata": {
        "id": "i8rYJLQBf1KG"
      },
      "source": [
        "## Map the data"
      ]
    },
    {
      "cell_type": "code",
      "metadata": {
        "scrolled": true,
        "colab": {
          "base_uri": "https://localhost:8080/",
          "height": 419
        },
        "id": "sE8vRcpdf1KH",
        "outputId": "65940452-be8f-4e55-a67c-858dc91dd4e6"
      },
      "source": [
        "# Map all 'No' entries with 0, and all 'Yes' entries with 1. Put that in a new variable called 'data'\n",
        "# Note data is a copy of raw_data, because of how pointers in Python work\n",
        "data = raw_data.copy()\n",
        "data['Attendance'] = data['Attendance'].map({'Yes': 1, 'No': 0})\n",
        "#we now have a dummy variable\n",
        "\n",
        "# Let's see what's inside\n",
        "data"
      ],
      "execution_count": null,
      "outputs": [
        {
          "output_type": "execute_result",
          "data": {
            "text/html": [
              "<div>\n",
              "<style scoped>\n",
              "    .dataframe tbody tr th:only-of-type {\n",
              "        vertical-align: middle;\n",
              "    }\n",
              "\n",
              "    .dataframe tbody tr th {\n",
              "        vertical-align: top;\n",
              "    }\n",
              "\n",
              "    .dataframe thead th {\n",
              "        text-align: right;\n",
              "    }\n",
              "</style>\n",
              "<table border=\"1\" class=\"dataframe\">\n",
              "  <thead>\n",
              "    <tr style=\"text-align: right;\">\n",
              "      <th></th>\n",
              "      <th>SAT</th>\n",
              "      <th>GPA</th>\n",
              "      <th>Attendance</th>\n",
              "    </tr>\n",
              "  </thead>\n",
              "  <tbody>\n",
              "    <tr>\n",
              "      <th>0</th>\n",
              "      <td>1714</td>\n",
              "      <td>2.40</td>\n",
              "      <td>0</td>\n",
              "    </tr>\n",
              "    <tr>\n",
              "      <th>1</th>\n",
              "      <td>1664</td>\n",
              "      <td>2.52</td>\n",
              "      <td>0</td>\n",
              "    </tr>\n",
              "    <tr>\n",
              "      <th>2</th>\n",
              "      <td>1760</td>\n",
              "      <td>2.54</td>\n",
              "      <td>0</td>\n",
              "    </tr>\n",
              "    <tr>\n",
              "      <th>3</th>\n",
              "      <td>1685</td>\n",
              "      <td>2.74</td>\n",
              "      <td>0</td>\n",
              "    </tr>\n",
              "    <tr>\n",
              "      <th>4</th>\n",
              "      <td>1693</td>\n",
              "      <td>2.83</td>\n",
              "      <td>0</td>\n",
              "    </tr>\n",
              "    <tr>\n",
              "      <th>...</th>\n",
              "      <td>...</td>\n",
              "      <td>...</td>\n",
              "      <td>...</td>\n",
              "    </tr>\n",
              "    <tr>\n",
              "      <th>79</th>\n",
              "      <td>1936</td>\n",
              "      <td>3.71</td>\n",
              "      <td>1</td>\n",
              "    </tr>\n",
              "    <tr>\n",
              "      <th>80</th>\n",
              "      <td>1810</td>\n",
              "      <td>3.71</td>\n",
              "      <td>1</td>\n",
              "    </tr>\n",
              "    <tr>\n",
              "      <th>81</th>\n",
              "      <td>1987</td>\n",
              "      <td>3.73</td>\n",
              "      <td>0</td>\n",
              "    </tr>\n",
              "    <tr>\n",
              "      <th>82</th>\n",
              "      <td>1962</td>\n",
              "      <td>3.76</td>\n",
              "      <td>1</td>\n",
              "    </tr>\n",
              "    <tr>\n",
              "      <th>83</th>\n",
              "      <td>2050</td>\n",
              "      <td>3.81</td>\n",
              "      <td>1</td>\n",
              "    </tr>\n",
              "  </tbody>\n",
              "</table>\n",
              "<p>84 rows × 3 columns</p>\n",
              "</div>"
            ],
            "text/plain": [
              "     SAT   GPA  Attendance\n",
              "0   1714  2.40           0\n",
              "1   1664  2.52           0\n",
              "2   1760  2.54           0\n",
              "3   1685  2.74           0\n",
              "4   1693  2.83           0\n",
              "..   ...   ...         ...\n",
              "79  1936  3.71           1\n",
              "80  1810  3.71           1\n",
              "81  1987  3.73           0\n",
              "82  1962  3.76           1\n",
              "83  2050  3.81           1\n",
              "\n",
              "[84 rows x 3 columns]"
            ]
          },
          "metadata": {},
          "execution_count": 60
        }
      ]
    },
    {
      "cell_type": "code",
      "metadata": {
        "scrolled": true,
        "colab": {
          "base_uri": "https://localhost:8080/",
          "height": 297
        },
        "id": "zd5fkD5hf1KI",
        "outputId": "9f9a8d32-e56b-416e-e14d-4cf5e9d22cb6"
      },
      "source": [
        "# This method gives us very nice descriptive statistics.\n",
        "data.describe()\n",
        "#mean of attendance = 0.46 < 0.5\n",
        "# thus there are more 0s than 1s\n",
        "#and 46.4% of the students attended more than 75% classes"
      ],
      "execution_count": null,
      "outputs": [
        {
          "output_type": "execute_result",
          "data": {
            "text/html": [
              "<div>\n",
              "<style scoped>\n",
              "    .dataframe tbody tr th:only-of-type {\n",
              "        vertical-align: middle;\n",
              "    }\n",
              "\n",
              "    .dataframe tbody tr th {\n",
              "        vertical-align: top;\n",
              "    }\n",
              "\n",
              "    .dataframe thead th {\n",
              "        text-align: right;\n",
              "    }\n",
              "</style>\n",
              "<table border=\"1\" class=\"dataframe\">\n",
              "  <thead>\n",
              "    <tr style=\"text-align: right;\">\n",
              "      <th></th>\n",
              "      <th>SAT</th>\n",
              "      <th>GPA</th>\n",
              "      <th>Attendance</th>\n",
              "    </tr>\n",
              "  </thead>\n",
              "  <tbody>\n",
              "    <tr>\n",
              "      <th>count</th>\n",
              "      <td>84.000000</td>\n",
              "      <td>84.000000</td>\n",
              "      <td>84.000000</td>\n",
              "    </tr>\n",
              "    <tr>\n",
              "      <th>mean</th>\n",
              "      <td>1845.273810</td>\n",
              "      <td>3.330238</td>\n",
              "      <td>0.464286</td>\n",
              "    </tr>\n",
              "    <tr>\n",
              "      <th>std</th>\n",
              "      <td>104.530661</td>\n",
              "      <td>0.271617</td>\n",
              "      <td>0.501718</td>\n",
              "    </tr>\n",
              "    <tr>\n",
              "      <th>min</th>\n",
              "      <td>1634.000000</td>\n",
              "      <td>2.400000</td>\n",
              "      <td>0.000000</td>\n",
              "    </tr>\n",
              "    <tr>\n",
              "      <th>25%</th>\n",
              "      <td>1772.000000</td>\n",
              "      <td>3.190000</td>\n",
              "      <td>0.000000</td>\n",
              "    </tr>\n",
              "    <tr>\n",
              "      <th>50%</th>\n",
              "      <td>1846.000000</td>\n",
              "      <td>3.380000</td>\n",
              "      <td>0.000000</td>\n",
              "    </tr>\n",
              "    <tr>\n",
              "      <th>75%</th>\n",
              "      <td>1934.000000</td>\n",
              "      <td>3.502500</td>\n",
              "      <td>1.000000</td>\n",
              "    </tr>\n",
              "    <tr>\n",
              "      <th>max</th>\n",
              "      <td>2050.000000</td>\n",
              "      <td>3.810000</td>\n",
              "      <td>1.000000</td>\n",
              "    </tr>\n",
              "  </tbody>\n",
              "</table>\n",
              "</div>"
            ],
            "text/plain": [
              "               SAT        GPA  Attendance\n",
              "count    84.000000  84.000000   84.000000\n",
              "mean   1845.273810   3.330238    0.464286\n",
              "std     104.530661   0.271617    0.501718\n",
              "min    1634.000000   2.400000    0.000000\n",
              "25%    1772.000000   3.190000    0.000000\n",
              "50%    1846.000000   3.380000    0.000000\n",
              "75%    1934.000000   3.502500    1.000000\n",
              "max    2050.000000   3.810000    1.000000"
            ]
          },
          "metadata": {},
          "execution_count": 61
        }
      ]
    },
    {
      "cell_type": "markdown",
      "metadata": {
        "id": "vnJwWQ3vf1KJ"
      },
      "source": [
        "## Regression"
      ]
    },
    {
      "cell_type": "code",
      "metadata": {
        "id": "Pt0z5eqSf1KJ"
      },
      "source": [
        "# Following the regression equation, our dependent variable (y) is the GPA\n",
        "y = data ['GPA']\n",
        "# Similarly, our independent variable (x) is the SAT score\n",
        "x1 = data [['SAT','Attendance']]"
      ],
      "execution_count": null,
      "outputs": []
    },
    {
      "cell_type": "code",
      "metadata": {
        "colab": {
          "base_uri": "https://localhost:8080/",
          "height": 499
        },
        "id": "o9eEJhxkf1KK",
        "outputId": "edb1a85c-2111-420b-97e0-51cfea93f9a0"
      },
      "source": [
        "# Add a constant. Esentially, we are adding a new column (equal in lenght to x), which consists only of 1s\n",
        "x = sm.add_constant(x1)\n",
        "# Fit the model, according to the OLS (ordinary least squares) method with a dependent variable y and an idependent x\n",
        "results = sm.OLS(y,x).fit()\n",
        "# Print a nice summary of the regression.\n",
        "results.summary()\n",
        "\n",
        "#resulting equation is\n",
        "#GPA = 0.6439 + 0.0014*SAT + 0.2226*Attendance\n",
        "#where attendance can be 0 or 1"
      ],
      "execution_count": null,
      "outputs": [
        {
          "output_type": "execute_result",
          "data": {
            "text/html": [
              "<table class=\"simpletable\">\n",
              "<caption>OLS Regression Results</caption>\n",
              "<tr>\n",
              "  <th>Dep. Variable:</th>           <td>GPA</td>       <th>  R-squared:         </th> <td>   0.565</td>\n",
              "</tr>\n",
              "<tr>\n",
              "  <th>Model:</th>                   <td>OLS</td>       <th>  Adj. R-squared:    </th> <td>   0.555</td>\n",
              "</tr>\n",
              "<tr>\n",
              "  <th>Method:</th>             <td>Least Squares</td>  <th>  F-statistic:       </th> <td>   52.70</td>\n",
              "</tr>\n",
              "<tr>\n",
              "  <th>Date:</th>             <td>Sun, 24 Oct 2021</td> <th>  Prob (F-statistic):</th> <td>2.19e-15</td>\n",
              "</tr>\n",
              "<tr>\n",
              "  <th>Time:</th>                 <td>06:00:35</td>     <th>  Log-Likelihood:    </th> <td>  25.798</td>\n",
              "</tr>\n",
              "<tr>\n",
              "  <th>No. Observations:</th>      <td>    84</td>      <th>  AIC:               </th> <td>  -45.60</td>\n",
              "</tr>\n",
              "<tr>\n",
              "  <th>Df Residuals:</th>          <td>    81</td>      <th>  BIC:               </th> <td>  -38.30</td>\n",
              "</tr>\n",
              "<tr>\n",
              "  <th>Df Model:</th>              <td>     2</td>      <th>                     </th>     <td> </td>   \n",
              "</tr>\n",
              "<tr>\n",
              "  <th>Covariance Type:</th>      <td>nonrobust</td>    <th>                     </th>     <td> </td>   \n",
              "</tr>\n",
              "</table>\n",
              "<table class=\"simpletable\">\n",
              "<tr>\n",
              "       <td></td>         <th>coef</th>     <th>std err</th>      <th>t</th>      <th>P>|t|</th>  <th>[0.025</th>    <th>0.975]</th>  \n",
              "</tr>\n",
              "<tr>\n",
              "  <th>const</th>      <td>    0.6439</td> <td>    0.358</td> <td>    1.797</td> <td> 0.076</td> <td>   -0.069</td> <td>    1.357</td>\n",
              "</tr>\n",
              "<tr>\n",
              "  <th>SAT</th>        <td>    0.0014</td> <td>    0.000</td> <td>    7.141</td> <td> 0.000</td> <td>    0.001</td> <td>    0.002</td>\n",
              "</tr>\n",
              "<tr>\n",
              "  <th>Attendance</th> <td>    0.2226</td> <td>    0.041</td> <td>    5.451</td> <td> 0.000</td> <td>    0.141</td> <td>    0.304</td>\n",
              "</tr>\n",
              "</table>\n",
              "<table class=\"simpletable\">\n",
              "<tr>\n",
              "  <th>Omnibus:</th>       <td>19.560</td> <th>  Durbin-Watson:     </th> <td>   1.009</td>\n",
              "</tr>\n",
              "<tr>\n",
              "  <th>Prob(Omnibus):</th> <td> 0.000</td> <th>  Jarque-Bera (JB):  </th> <td>  27.189</td>\n",
              "</tr>\n",
              "<tr>\n",
              "  <th>Skew:</th>          <td>-1.028</td> <th>  Prob(JB):          </th> <td>1.25e-06</td>\n",
              "</tr>\n",
              "<tr>\n",
              "  <th>Kurtosis:</th>      <td> 4.881</td> <th>  Cond. No.          </th> <td>3.35e+04</td>\n",
              "</tr>\n",
              "</table><br/><br/>Warnings:<br/>[1] Standard Errors assume that the covariance matrix of the errors is correctly specified.<br/>[2] The condition number is large, 3.35e+04. This might indicate that there are<br/>strong multicollinearity or other numerical problems."
            ],
            "text/plain": [
              "<class 'statsmodels.iolib.summary.Summary'>\n",
              "\"\"\"\n",
              "                            OLS Regression Results                            \n",
              "==============================================================================\n",
              "Dep. Variable:                    GPA   R-squared:                       0.565\n",
              "Model:                            OLS   Adj. R-squared:                  0.555\n",
              "Method:                 Least Squares   F-statistic:                     52.70\n",
              "Date:                Sun, 24 Oct 2021   Prob (F-statistic):           2.19e-15\n",
              "Time:                        06:00:35   Log-Likelihood:                 25.798\n",
              "No. Observations:                  84   AIC:                            -45.60\n",
              "Df Residuals:                      81   BIC:                            -38.30\n",
              "Df Model:                           2                                         \n",
              "Covariance Type:            nonrobust                                         \n",
              "==============================================================================\n",
              "                 coef    std err          t      P>|t|      [0.025      0.975]\n",
              "------------------------------------------------------------------------------\n",
              "const          0.6439      0.358      1.797      0.076      -0.069       1.357\n",
              "SAT            0.0014      0.000      7.141      0.000       0.001       0.002\n",
              "Attendance     0.2226      0.041      5.451      0.000       0.141       0.304\n",
              "==============================================================================\n",
              "Omnibus:                       19.560   Durbin-Watson:                   1.009\n",
              "Prob(Omnibus):                  0.000   Jarque-Bera (JB):               27.189\n",
              "Skew:                          -1.028   Prob(JB):                     1.25e-06\n",
              "Kurtosis:                       4.881   Cond. No.                     3.35e+04\n",
              "==============================================================================\n",
              "\n",
              "Warnings:\n",
              "[1] Standard Errors assume that the covariance matrix of the errors is correctly specified.\n",
              "[2] The condition number is large, 3.35e+04. This might indicate that there are\n",
              "strong multicollinearity or other numerical problems.\n",
              "\"\"\""
            ]
          },
          "metadata": {},
          "execution_count": 63
        }
      ]
    },
    {
      "cell_type": "markdown",
      "metadata": {
        "id": "bV1Gf_Rof1KL"
      },
      "source": [
        "## Plot the regression line(s) on the scatter plot"
      ]
    },
    {
      "cell_type": "code",
      "metadata": {
        "colab": {
          "base_uri": "https://localhost:8080/",
          "height": 291
        },
        "id": "sb84o298f1KL",
        "outputId": "4e3c90c2-5e39-49cc-f300-e4176ebc825c"
      },
      "source": [
        "# Create a scatter plot of SAT and GPA\n",
        "plt.scatter(data['SAT'],y)\n",
        "# Define the two regression equations, depending on whether they attended (yes), or didn't (no)\n",
        "yhat_no = 0.6439 + 0.0014*data['SAT']\n",
        "yhat_yes = 0.8665 + 0.0014*data['SAT']\n",
        "# Plot the two regression lines\n",
        "fig = plt.plot(data['SAT'],yhat_no, lw=2, c='#006837')\n",
        "fig = plt.plot(data['SAT'],yhat_yes, lw=2, c='#a50026')\n",
        "# Name your axes :)\n",
        "plt.xlabel('SAT', fontsize = 20)\n",
        "plt.ylabel('GPA', fontsize = 20)\n",
        "plt.show()\n",
        "\n",
        "#Observatoin;\n",
        "#On avg, GPA of students who attended 75%+ is 0.2226 higher than those who didn't attend"
      ],
      "execution_count": null,
      "outputs": [
        {
          "output_type": "display_data",
          "data": {
            "image/png": "[encoded data removed]",
            "text/plain": [
              "<Figure size 432x288 with 1 Axes>"
            ]
          },
          "metadata": {
            "needs_background": "light"
          }
        }
      ]
    },
    {
      "cell_type": "markdown",
      "metadata": {
        "id": "VWJFzo-Hf1KM"
      },
      "source": [
        "## Plot the regression line(s) on the scatter plot and color the data points"
      ]
    },
    {
      "cell_type": "code",
      "metadata": {
        "colab": {
          "base_uri": "https://localhost:8080/",
          "height": 291
        },
        "id": "6CoI2lN0f1KM",
        "outputId": "d8ddaf04-700e-47b2-d6b1-31e858c91f8f"
      },
      "source": [
        "# In this code I want to colour the points depending on attendance\n",
        "# Note: This code would have been very easy in Seaborn\n",
        "\n",
        "# Create one scatter plot which contains all observations\n",
        "# Use the series 'Attendance' as color, and choose a colour map of our choice\n",
        "# The colour map I've chosen i.e. RdYlGn_r is completely arbitrary\n",
        "plt.scatter(data['SAT'],data['GPA'], c=data['Attendance'],cmap='RdYlGn_r')\n",
        "#Here, red = students with attendance >75%\n",
        "#Green = attendance <75%\n",
        "\n",
        "# Define the two regression equations (one with a dummy = 1, the other with dummy = 0)\n",
        "# We have those above already, but for the sake of consistency, we will also include them here\n",
        "yhat_no = 0.6439 + 0.0014*data['SAT']\n",
        "yhat_yes = 0.8665 + 0.0014*data['SAT']\n",
        "\n",
        "# Plot the two regression lines\n",
        "fig = plt.plot(data['SAT'],yhat_no, lw=2, c='#006837')\n",
        "fig = plt.plot(data['SAT'],yhat_yes, lw=2, c='#a50026')\n",
        "plt.xlabel('SAT', fontsize = 20)\n",
        "plt.ylabel('GPA', fontsize = 20)\n",
        "plt.show()"
      ],
      "execution_count": null,
      "outputs": [
        {
          "output_type": "display_data",
          "data": {
            "image/png": "[encoded data removed]",
            "text/plain": [
              "<Figure size 432x288 with 1 Axes>"
            ]
          },
          "metadata": {
            "needs_background": "light"
          }
        }
      ]
    },
    {
      "cell_type": "markdown",
      "metadata": {
        "id": "mwMTcz-Vf1KN"
      },
      "source": [
        "## Add the original regression line"
      ]
    },
    {
      "cell_type": "code",
      "metadata": {
        "colab": {
          "base_uri": "https://localhost:8080/",
          "height": 291
        },
        "id": "PAtMZfK4f1KN",
        "outputId": "d79704fb-98bf-4e69-863d-7bb4470162af"
      },
      "source": [
        "# Same as above, this time we are including the regression line WITHOUT the dummies.\n",
        "\n",
        "# In this code I want to color the points depending on attendance\n",
        "# Note: This code would have been very easy in Seaborn\n",
        "\n",
        "# Create one scatter plot which contains all observations\n",
        "# Use the series 'Attendance' as color, and choose a colour map of your choice\n",
        "# The colour map I've chosen i.e. RdYlGn_r is completely arbitrary\n",
        "plt.scatter(data['SAT'],data['GPA'], c=data['Attendance'],cmap='RdYlGn_r')\n",
        "\n",
        "# Define the two regression equations (one with a dummy = 1, the other with dummy = 0)\n",
        "# We have those above already, but for the sake of consistency, we will also include them here\n",
        "yhat_no = 0.6439 + 0.0014*data['SAT']\n",
        "yhat_yes = 0.8665 + 0.0014*data['SAT']\n",
        "# Original regression line\n",
        "yhat = 0.0017*data['SAT'] + 0.275\n",
        "\n",
        "# Plot the two regression lines\n",
        "fig = plt.plot(data['SAT'],yhat_no, lw=2, c='#006837', label ='regression line1')\n",
        "fig = plt.plot(data['SAT'],yhat_yes, lw=2, c='#a50026', label ='regression line2')\n",
        "# Plot the original regression line\n",
        "fig = plt.plot(data['SAT'],yhat, lw=3, c='#4C72B0', label ='regression line')\n",
        "\n",
        "plt.xlabel('SAT', fontsize = 20)\n",
        "plt.ylabel('GPA', fontsize = 20)\n",
        "plt.show()"
      ],
      "execution_count": null,
      "outputs": [
        {
          "output_type": "display_data",
          "data": {
            "image/png": "[encoded data removed]",
            "text/plain": [
              "<Figure size 432x288 with 1 Axes>"
            ]
          },
          "metadata": {
            "needs_background": "light"
          }
        }
      ]
    },
    {
      "cell_type": "markdown",
      "metadata": {
        "id": "xT4SECG_5H2I"
      },
      "source": [
        "## How to make predictions based on the regressions we create"
      ]
    },
    {
      "cell_type": "code",
      "metadata": {
        "colab": {
          "base_uri": "https://localhost:8080/",
          "height": 419
        },
        "id": "dSmDTJsF4nsO",
        "outputId": "4ca941d5-88df-436a-eecd-122b0e29cfad"
      },
      "source": [
        "x #const = x0 i.e. whose coefficient is b0; thus here it contains only 1's"
      ],
      "execution_count": null,
      "outputs": [
        {
          "output_type": "execute_result",
          "data": {
            "text/html": [
              "<div>\n",
              "<style scoped>\n",
              "    .dataframe tbody tr th:only-of-type {\n",
              "        vertical-align: middle;\n",
              "    }\n",
              "\n",
              "    .dataframe tbody tr th {\n",
              "        vertical-align: top;\n",
              "    }\n",
              "\n",
              "    .dataframe thead th {\n",
              "        text-align: right;\n",
              "    }\n",
              "</style>\n",
              "<table border=\"1\" class=\"dataframe\">\n",
              "  <thead>\n",
              "    <tr style=\"text-align: right;\">\n",
              "      <th></th>\n",
              "      <th>const</th>\n",
              "      <th>SAT</th>\n",
              "      <th>Attendance</th>\n",
              "    </tr>\n",
              "  </thead>\n",
              "  <tbody>\n",
              "    <tr>\n",
              "      <th>0</th>\n",
              "      <td>1.0</td>\n",
              "      <td>1714</td>\n",
              "      <td>0</td>\n",
              "    </tr>\n",
              "    <tr>\n",
              "      <th>1</th>\n",
              "      <td>1.0</td>\n",
              "      <td>1664</td>\n",
              "      <td>0</td>\n",
              "    </tr>\n",
              "    <tr>\n",
              "      <th>2</th>\n",
              "      <td>1.0</td>\n",
              "      <td>1760</td>\n",
              "      <td>0</td>\n",
              "    </tr>\n",
              "    <tr>\n",
              "      <th>3</th>\n",
              "      <td>1.0</td>\n",
              "      <td>1685</td>\n",
              "      <td>0</td>\n",
              "    </tr>\n",
              "    <tr>\n",
              "      <th>4</th>\n",
              "      <td>1.0</td>\n",
              "      <td>1693</td>\n",
              "      <td>0</td>\n",
              "    </tr>\n",
              "    <tr>\n",
              "      <th>...</th>\n",
              "      <td>...</td>\n",
              "      <td>...</td>\n",
              "      <td>...</td>\n",
              "    </tr>\n",
              "    <tr>\n",
              "      <th>79</th>\n",
              "      <td>1.0</td>\n",
              "      <td>1936</td>\n",
              "      <td>1</td>\n",
              "    </tr>\n",
              "    <tr>\n",
              "      <th>80</th>\n",
              "      <td>1.0</td>\n",
              "      <td>1810</td>\n",
              "      <td>1</td>\n",
              "    </tr>\n",
              "    <tr>\n",
              "      <th>81</th>\n",
              "      <td>1.0</td>\n",
              "      <td>1987</td>\n",
              "      <td>0</td>\n",
              "    </tr>\n",
              "    <tr>\n",
              "      <th>82</th>\n",
              "      <td>1.0</td>\n",
              "      <td>1962</td>\n",
              "      <td>1</td>\n",
              "    </tr>\n",
              "    <tr>\n",
              "      <th>83</th>\n",
              "      <td>1.0</td>\n",
              "      <td>2050</td>\n",
              "      <td>1</td>\n",
              "    </tr>\n",
              "  </tbody>\n",
              "</table>\n",
              "<p>84 rows × 3 columns</p>\n",
              "</div>"
            ],
            "text/plain": [
              "    const   SAT  Attendance\n",
              "0     1.0  1714           0\n",
              "1     1.0  1664           0\n",
              "2     1.0  1760           0\n",
              "3     1.0  1685           0\n",
              "4     1.0  1693           0\n",
              "..    ...   ...         ...\n",
              "79    1.0  1936           1\n",
              "80    1.0  1810           1\n",
              "81    1.0  1987           0\n",
              "82    1.0  1962           1\n",
              "83    1.0  2050           1\n",
              "\n",
              "[84 rows x 3 columns]"
            ]
          },
          "metadata": {},
          "execution_count": 67
        }
      ]
    },
    {
      "cell_type": "code",
      "metadata": {
        "colab": {
          "base_uri": "https://localhost:8080/",
          "height": 111
        },
        "id": "vYRaPrkE5ZI4",
        "outputId": "47fc21ec-3336-4598-ad3f-4f59e86c1017"
      },
      "source": [
        "new_data = pd.DataFrame({'const':1, 'SAT':[1700, 1670], 'Attendance':[0,1]})\n",
        "#since data frames usually arrange columns in alphabetical order, I will overwrite new_data with the columns in the order specified by me\n",
        "new_data = new_data[['const', 'SAT','Attendance']]\n",
        "\n",
        "#I will further change the indices for the model but we do not need to do this IRL\n",
        "# new_data.rename(index={0:'Person1',1:'Person2'})\n",
        "\n",
        "#printing the DF we created\n",
        "new_data"
      ],
      "execution_count": null,
      "outputs": [
        {
          "output_type": "execute_result",
          "data": {
            "text/html": [
              "<div>\n",
              "<style scoped>\n",
              "    .dataframe tbody tr th:only-of-type {\n",
              "        vertical-align: middle;\n",
              "    }\n",
              "\n",
              "    .dataframe tbody tr th {\n",
              "        vertical-align: top;\n",
              "    }\n",
              "\n",
              "    .dataframe thead th {\n",
              "        text-align: right;\n",
              "    }\n",
              "</style>\n",
              "<table border=\"1\" class=\"dataframe\">\n",
              "  <thead>\n",
              "    <tr style=\"text-align: right;\">\n",
              "      <th></th>\n",
              "      <th>const</th>\n",
              "      <th>SAT</th>\n",
              "      <th>Attendance</th>\n",
              "    </tr>\n",
              "  </thead>\n",
              "  <tbody>\n",
              "    <tr>\n",
              "      <th>0</th>\n",
              "      <td>1</td>\n",
              "      <td>1700</td>\n",
              "      <td>0</td>\n",
              "    </tr>\n",
              "    <tr>\n",
              "      <th>1</th>\n",
              "      <td>1</td>\n",
              "      <td>1670</td>\n",
              "      <td>1</td>\n",
              "    </tr>\n",
              "  </tbody>\n",
              "</table>\n",
              "</div>"
            ],
            "text/plain": [
              "   const   SAT  Attendance\n",
              "0      1  1700           0\n",
              "1      1  1670           1"
            ]
          },
          "metadata": {},
          "execution_count": 72
        }
      ]
    },
    {
      "cell_type": "code",
      "metadata": {
        "colab": {
          "base_uri": "https://localhost:8080/"
        },
        "id": "is6Due9Z7WBA",
        "outputId": "dd364ece-5765-4707-e193-336d614cc85f"
      },
      "source": [
        "predictions = results.predict(new_data) #results = fitted regression = sm.OLS(y,x).fit()\n",
        "predictions"
      ],
      "execution_count": null,
      "outputs": [
        {
          "output_type": "execute_result",
          "data": {
            "text/plain": [
              "0    3.023513\n",
              "1    3.204163\n",
              "dtype: float64"
            ]
          },
          "metadata": {},
          "execution_count": 75
        }
      ]
    },
    {
      "cell_type": "code",
      "metadata": {
        "colab": {
          "base_uri": "https://localhost:8080/",
          "height": 111
        },
        "id": "BcbtNavT713w",
        "outputId": "9fd4991b-945e-4b6a-930f-d2414e85156d"
      },
      "source": [
        "#we transform it into  dataframe and join it with the earlier one\n",
        "predictions_df = pd.DataFrame( {'Predictions' : predictions})\n",
        "\n",
        "joined = new_data.join(predictions_df)\n",
        "\n",
        "joined.rename(index={0:'Person1',1:'Person2'})\n",
        "\n",
        "# we can observe that due to the significant contribution of \"Attendance\" we have been able to predict that the GPA of P2 will be greater than that of P1 \n",
        "# inspite of having a lower SAT score"
      ],
      "execution_count": null,
      "outputs": [
        {
          "output_type": "execute_result",
          "data": {
            "text/html": [
              "<div>\n",
              "<style scoped>\n",
              "    .dataframe tbody tr th:only-of-type {\n",
              "        vertical-align: middle;\n",
              "    }\n",
              "\n",
              "    .dataframe tbody tr th {\n",
              "        vertical-align: top;\n",
              "    }\n",
              "\n",
              "    .dataframe thead th {\n",
              "        text-align: right;\n",
              "    }\n",
              "</style>\n",
              "<table border=\"1\" class=\"dataframe\">\n",
              "  <thead>\n",
              "    <tr style=\"text-align: right;\">\n",
              "      <th></th>\n",
              "      <th>const</th>\n",
              "      <th>SAT</th>\n",
              "      <th>Attendance</th>\n",
              "      <th>Predictions</th>\n",
              "    </tr>\n",
              "  </thead>\n",
              "  <tbody>\n",
              "    <tr>\n",
              "      <th>Person1</th>\n",
              "      <td>1</td>\n",
              "      <td>1700</td>\n",
              "      <td>0</td>\n",
              "      <td>3.023513</td>\n",
              "    </tr>\n",
              "    <tr>\n",
              "      <th>Person2</th>\n",
              "      <td>1</td>\n",
              "      <td>1670</td>\n",
              "      <td>1</td>\n",
              "      <td>3.204163</td>\n",
              "    </tr>\n",
              "  </tbody>\n",
              "</table>\n",
              "</div>"
            ],
            "text/plain": [
              "         const   SAT  Attendance  Predictions\n",
              "Person1      1  1700           0     3.023513\n",
              "Person2      1  1670           1     3.204163"
            ]
          },
          "metadata": {},
          "execution_count": 76
        }
      ]
    },
    {
      "cell_type": "markdown",
      "metadata": {
        "id": "a_zd8StEfzYV"
      },
      "source": [
        "# Multiple Linear Regression with Dummies - Exercise Solution"
      ]
    },
    {
      "cell_type": "markdown",
      "metadata": {
        "id": "8uWzpEs-fzYi"
      },
      "source": [
        "You are given a real estate dataset. \n",
        "\n",
        "Real estate is one of those examples that every regression course goes through as it is extremely easy to understand and there is a (almost always) certain causal relationship to be found.\n",
        "\n",
        "The data is located in the file: 'real_estate_price_size_year_view.csv'. \n",
        "\n",
        "You are expected to create a multiple linear regression (similar to the one in the lecture), using the new data. \n",
        "\n",
        "In this exercise, the dependent variable is 'price', while the independent variables are 'size', 'year', and 'view'.\n",
        "\n",
        "#### Regarding the 'view' variable:\n",
        "There are two options: 'Sea view' and 'No sea view'. You are expected to create a dummy variable for view and include it in the regression\n",
        "\n",
        "Good luck!"
      ]
    },
    {
      "cell_type": "markdown",
      "metadata": {
        "id": "RVUvmoBofzYl"
      },
      "source": [
        "## Import the relevant libraries"
      ]
    },
    {
      "cell_type": "code",
      "metadata": {
        "id": "KnDmSu3IfzYm"
      },
      "source": [
        "import numpy as np\n",
        "import pandas as pd\n",
        "import matplotlib.pyplot as plt\n",
        "import statsmodels.api as sm\n",
        "import seaborn as sns\n",
        "sns.set()"
      ],
      "execution_count": null,
      "outputs": []
    },
    {
      "cell_type": "markdown",
      "metadata": {
        "id": "lruVEE3OfzYp"
      },
      "source": [
        "## Load the data"
      ]
    },
    {
      "cell_type": "code",
      "metadata": {
        "id": "Hz841gdIfzYq"
      },
      "source": [
        "# From Google Drive\n",
        "# from google.colab import drive\n",
        "# drive.mount('/content/drive')\n",
        "\n",
        "#Since we will do some preprocessing, the variable is not called 'data' just yet!\n",
        "path = '/content/drive/MyDrive/Colab Notebooks/Datasets/365DSc/Linear Regression/1_22_dummy-variables-dataset/real_estate_price_size_year_view.csv'\n",
        "raw_data = pd.read_csv(path)"
      ],
      "execution_count": null,
      "outputs": []
    },
    {
      "cell_type": "code",
      "metadata": {
        "id": "e2zndTG_fzYr",
        "colab": {
          "base_uri": "https://localhost:8080/",
          "height": 204
        },
        "outputId": "15cfc0e1-b8b9-4cfc-c756-d7eda6dcc4f0"
      },
      "source": [
        "raw_data.head()"
      ],
      "execution_count": null,
      "outputs": [
        {
          "output_type": "execute_result",
          "data": {
            "text/html": [
              "<div>\n",
              "<style scoped>\n",
              "    .dataframe tbody tr th:only-of-type {\n",
              "        vertical-align: middle;\n",
              "    }\n",
              "\n",
              "    .dataframe tbody tr th {\n",
              "        vertical-align: top;\n",
              "    }\n",
              "\n",
              "    .dataframe thead th {\n",
              "        text-align: right;\n",
              "    }\n",
              "</style>\n",
              "<table border=\"1\" class=\"dataframe\">\n",
              "  <thead>\n",
              "    <tr style=\"text-align: right;\">\n",
              "      <th></th>\n",
              "      <th>price</th>\n",
              "      <th>size</th>\n",
              "      <th>year</th>\n",
              "      <th>view</th>\n",
              "    </tr>\n",
              "  </thead>\n",
              "  <tbody>\n",
              "    <tr>\n",
              "      <th>0</th>\n",
              "      <td>234314.144</td>\n",
              "      <td>643.09</td>\n",
              "      <td>2015</td>\n",
              "      <td>No sea view</td>\n",
              "    </tr>\n",
              "    <tr>\n",
              "      <th>1</th>\n",
              "      <td>228581.528</td>\n",
              "      <td>656.22</td>\n",
              "      <td>2009</td>\n",
              "      <td>No sea view</td>\n",
              "    </tr>\n",
              "    <tr>\n",
              "      <th>2</th>\n",
              "      <td>281626.336</td>\n",
              "      <td>487.29</td>\n",
              "      <td>2018</td>\n",
              "      <td>Sea view</td>\n",
              "    </tr>\n",
              "    <tr>\n",
              "      <th>3</th>\n",
              "      <td>401255.608</td>\n",
              "      <td>1504.75</td>\n",
              "      <td>2015</td>\n",
              "      <td>No sea view</td>\n",
              "    </tr>\n",
              "    <tr>\n",
              "      <th>4</th>\n",
              "      <td>458674.256</td>\n",
              "      <td>1275.46</td>\n",
              "      <td>2009</td>\n",
              "      <td>Sea view</td>\n",
              "    </tr>\n",
              "  </tbody>\n",
              "</table>\n",
              "</div>"
            ],
            "text/plain": [
              "        price     size  year         view\n",
              "0  234314.144   643.09  2015  No sea view\n",
              "1  228581.528   656.22  2009  No sea view\n",
              "2  281626.336   487.29  2018     Sea view\n",
              "3  401255.608  1504.75  2015  No sea view\n",
              "4  458674.256  1275.46  2009     Sea view"
            ]
          },
          "metadata": {},
          "execution_count": 12
        }
      ]
    },
    {
      "cell_type": "code",
      "metadata": {
        "id": "yMrUNgdbfzYu",
        "colab": {
          "base_uri": "https://localhost:8080/",
          "height": 390
        },
        "outputId": "4526ae3b-04da-4055-f701-3a67ff3990f9"
      },
      "source": [
        "raw_data.describe(include='all')"
      ],
      "execution_count": null,
      "outputs": [
        {
          "output_type": "execute_result",
          "data": {
            "text/html": [
              "<div>\n",
              "<style scoped>\n",
              "    .dataframe tbody tr th:only-of-type {\n",
              "        vertical-align: middle;\n",
              "    }\n",
              "\n",
              "    .dataframe tbody tr th {\n",
              "        vertical-align: top;\n",
              "    }\n",
              "\n",
              "    .dataframe thead th {\n",
              "        text-align: right;\n",
              "    }\n",
              "</style>\n",
              "<table border=\"1\" class=\"dataframe\">\n",
              "  <thead>\n",
              "    <tr style=\"text-align: right;\">\n",
              "      <th></th>\n",
              "      <th>price</th>\n",
              "      <th>size</th>\n",
              "      <th>year</th>\n",
              "      <th>view</th>\n",
              "    </tr>\n",
              "  </thead>\n",
              "  <tbody>\n",
              "    <tr>\n",
              "      <th>count</th>\n",
              "      <td>100.000000</td>\n",
              "      <td>100.000000</td>\n",
              "      <td>100.000000</td>\n",
              "      <td>100</td>\n",
              "    </tr>\n",
              "    <tr>\n",
              "      <th>unique</th>\n",
              "      <td>NaN</td>\n",
              "      <td>NaN</td>\n",
              "      <td>NaN</td>\n",
              "      <td>2</td>\n",
              "    </tr>\n",
              "    <tr>\n",
              "      <th>top</th>\n",
              "      <td>NaN</td>\n",
              "      <td>NaN</td>\n",
              "      <td>NaN</td>\n",
              "      <td>No sea view</td>\n",
              "    </tr>\n",
              "    <tr>\n",
              "      <th>freq</th>\n",
              "      <td>NaN</td>\n",
              "      <td>NaN</td>\n",
              "      <td>NaN</td>\n",
              "      <td>51</td>\n",
              "    </tr>\n",
              "    <tr>\n",
              "      <th>mean</th>\n",
              "      <td>292289.470160</td>\n",
              "      <td>853.024200</td>\n",
              "      <td>2012.600000</td>\n",
              "      <td>NaN</td>\n",
              "    </tr>\n",
              "    <tr>\n",
              "      <th>std</th>\n",
              "      <td>77051.727525</td>\n",
              "      <td>297.941951</td>\n",
              "      <td>4.729021</td>\n",
              "      <td>NaN</td>\n",
              "    </tr>\n",
              "    <tr>\n",
              "      <th>min</th>\n",
              "      <td>154282.128000</td>\n",
              "      <td>479.750000</td>\n",
              "      <td>2006.000000</td>\n",
              "      <td>NaN</td>\n",
              "    </tr>\n",
              "    <tr>\n",
              "      <th>25%</th>\n",
              "      <td>234280.148000</td>\n",
              "      <td>643.330000</td>\n",
              "      <td>2009.000000</td>\n",
              "      <td>NaN</td>\n",
              "    </tr>\n",
              "    <tr>\n",
              "      <th>50%</th>\n",
              "      <td>280590.716000</td>\n",
              "      <td>696.405000</td>\n",
              "      <td>2015.000000</td>\n",
              "      <td>NaN</td>\n",
              "    </tr>\n",
              "    <tr>\n",
              "      <th>75%</th>\n",
              "      <td>335723.696000</td>\n",
              "      <td>1029.322500</td>\n",
              "      <td>2018.000000</td>\n",
              "      <td>NaN</td>\n",
              "    </tr>\n",
              "    <tr>\n",
              "      <th>max</th>\n",
              "      <td>500681.128000</td>\n",
              "      <td>1842.510000</td>\n",
              "      <td>2018.000000</td>\n",
              "      <td>NaN</td>\n",
              "    </tr>\n",
              "  </tbody>\n",
              "</table>\n",
              "</div>"
            ],
            "text/plain": [
              "                price         size         year         view\n",
              "count      100.000000   100.000000   100.000000          100\n",
              "unique            NaN          NaN          NaN            2\n",
              "top               NaN          NaN          NaN  No sea view\n",
              "freq              NaN          NaN          NaN           51\n",
              "mean    292289.470160   853.024200  2012.600000          NaN\n",
              "std      77051.727525   297.941951     4.729021          NaN\n",
              "min     154282.128000   479.750000  2006.000000          NaN\n",
              "25%     234280.148000   643.330000  2009.000000          NaN\n",
              "50%     280590.716000   696.405000  2015.000000          NaN\n",
              "75%     335723.696000  1029.322500  2018.000000          NaN\n",
              "max     500681.128000  1842.510000  2018.000000          NaN"
            ]
          },
          "metadata": {},
          "execution_count": 13
        }
      ]
    },
    {
      "cell_type": "markdown",
      "metadata": {
        "id": "f7WZXF-ofzYv"
      },
      "source": [
        "## Create a dummy variable for 'view'"
      ]
    },
    {
      "cell_type": "code",
      "metadata": {
        "id": "z_AOGO2kfzYw"
      },
      "source": [
        "data = raw_data.copy()\n",
        "data['view'] = data['view'].map({'Sea view': 1, 'No sea view': 0})"
      ],
      "execution_count": null,
      "outputs": []
    },
    {
      "cell_type": "code",
      "metadata": {
        "id": "b05eIxZBfzYx",
        "colab": {
          "base_uri": "https://localhost:8080/",
          "height": 204
        },
        "outputId": "3c37024a-9b01-4f15-e485-b06e61075902"
      },
      "source": [
        "data.head()"
      ],
      "execution_count": null,
      "outputs": [
        {
          "output_type": "execute_result",
          "data": {
            "text/html": [
              "<div>\n",
              "<style scoped>\n",
              "    .dataframe tbody tr th:only-of-type {\n",
              "        vertical-align: middle;\n",
              "    }\n",
              "\n",
              "    .dataframe tbody tr th {\n",
              "        vertical-align: top;\n",
              "    }\n",
              "\n",
              "    .dataframe thead th {\n",
              "        text-align: right;\n",
              "    }\n",
              "</style>\n",
              "<table border=\"1\" class=\"dataframe\">\n",
              "  <thead>\n",
              "    <tr style=\"text-align: right;\">\n",
              "      <th></th>\n",
              "      <th>price</th>\n",
              "      <th>size</th>\n",
              "      <th>year</th>\n",
              "      <th>view</th>\n",
              "    </tr>\n",
              "  </thead>\n",
              "  <tbody>\n",
              "    <tr>\n",
              "      <th>0</th>\n",
              "      <td>234314.144</td>\n",
              "      <td>643.09</td>\n",
              "      <td>2015</td>\n",
              "      <td>0</td>\n",
              "    </tr>\n",
              "    <tr>\n",
              "      <th>1</th>\n",
              "      <td>228581.528</td>\n",
              "      <td>656.22</td>\n",
              "      <td>2009</td>\n",
              "      <td>0</td>\n",
              "    </tr>\n",
              "    <tr>\n",
              "      <th>2</th>\n",
              "      <td>281626.336</td>\n",
              "      <td>487.29</td>\n",
              "      <td>2018</td>\n",
              "      <td>1</td>\n",
              "    </tr>\n",
              "    <tr>\n",
              "      <th>3</th>\n",
              "      <td>401255.608</td>\n",
              "      <td>1504.75</td>\n",
              "      <td>2015</td>\n",
              "      <td>0</td>\n",
              "    </tr>\n",
              "    <tr>\n",
              "      <th>4</th>\n",
              "      <td>458674.256</td>\n",
              "      <td>1275.46</td>\n",
              "      <td>2009</td>\n",
              "      <td>1</td>\n",
              "    </tr>\n",
              "  </tbody>\n",
              "</table>\n",
              "</div>"
            ],
            "text/plain": [
              "        price     size  year  view\n",
              "0  234314.144   643.09  2015     0\n",
              "1  228581.528   656.22  2009     0\n",
              "2  281626.336   487.29  2018     1\n",
              "3  401255.608  1504.75  2015     0\n",
              "4  458674.256  1275.46  2009     1"
            ]
          },
          "metadata": {},
          "execution_count": 15
        }
      ]
    },
    {
      "cell_type": "markdown",
      "metadata": {
        "id": "wzxKcNfHfzYx"
      },
      "source": [
        "## Create the regression"
      ]
    },
    {
      "cell_type": "markdown",
      "metadata": {
        "id": "j-V_NA9lfzYy"
      },
      "source": [
        "### Declare the dependent and the independent variables"
      ]
    },
    {
      "cell_type": "code",
      "metadata": {
        "id": "IsIwq--6fzYy"
      },
      "source": [
        "y = data['price']\n",
        "x1 = data[['size','year','view']]"
      ],
      "execution_count": null,
      "outputs": []
    },
    {
      "cell_type": "markdown",
      "metadata": {
        "id": "_2ySIAnCfzYz"
      },
      "source": [
        "### Regression"
      ]
    },
    {
      "cell_type": "code",
      "metadata": {
        "id": "KKQ2OFJRfzYz",
        "colab": {
          "base_uri": "https://localhost:8080/",
          "height": 520
        },
        "outputId": "46ca2406-4eef-4b09-f5af-db1fd95098bf"
      },
      "source": [
        "x = sm.add_constant(x1)\n",
        "results = sm.OLS(y,x).fit()\n",
        "results.summary()"
      ],
      "execution_count": null,
      "outputs": [
        {
          "output_type": "execute_result",
          "data": {
            "text/html": [
              "<table class=\"simpletable\">\n",
              "<caption>OLS Regression Results</caption>\n",
              "<tr>\n",
              "  <th>Dep. Variable:</th>          <td>price</td>      <th>  R-squared:         </th> <td>   0.913</td>\n",
              "</tr>\n",
              "<tr>\n",
              "  <th>Model:</th>                   <td>OLS</td>       <th>  Adj. R-squared:    </th> <td>   0.910</td>\n",
              "</tr>\n",
              "<tr>\n",
              "  <th>Method:</th>             <td>Least Squares</td>  <th>  F-statistic:       </th> <td>   335.2</td>\n",
              "</tr>\n",
              "<tr>\n",
              "  <th>Date:</th>             <td>Sun, 24 Oct 2021</td> <th>  Prob (F-statistic):</th> <td>1.02e-50</td>\n",
              "</tr>\n",
              "<tr>\n",
              "  <th>Time:</th>                 <td>04:39:38</td>     <th>  Log-Likelihood:    </th> <td> -1144.6</td>\n",
              "</tr>\n",
              "<tr>\n",
              "  <th>No. Observations:</th>      <td>   100</td>      <th>  AIC:               </th> <td>   2297.</td>\n",
              "</tr>\n",
              "<tr>\n",
              "  <th>Df Residuals:</th>          <td>    96</td>      <th>  BIC:               </th> <td>   2308.</td>\n",
              "</tr>\n",
              "<tr>\n",
              "  <th>Df Model:</th>              <td>     3</td>      <th>                     </th>     <td> </td>   \n",
              "</tr>\n",
              "<tr>\n",
              "  <th>Covariance Type:</th>      <td>nonrobust</td>    <th>                     </th>     <td> </td>   \n",
              "</tr>\n",
              "</table>\n",
              "<table class=\"simpletable\">\n",
              "<tr>\n",
              "    <td></td>       <th>coef</th>     <th>std err</th>      <th>t</th>      <th>P>|t|</th>  <th>[0.025</th>    <th>0.975]</th>  \n",
              "</tr>\n",
              "<tr>\n",
              "  <th>const</th> <td>-5.398e+06</td> <td> 9.94e+05</td> <td>   -5.431</td> <td> 0.000</td> <td>-7.37e+06</td> <td>-3.43e+06</td>\n",
              "</tr>\n",
              "<tr>\n",
              "  <th>size</th>  <td>  223.0316</td> <td>    7.838</td> <td>   28.455</td> <td> 0.000</td> <td>  207.473</td> <td>  238.590</td>\n",
              "</tr>\n",
              "<tr>\n",
              "  <th>year</th>  <td> 2718.9489</td> <td>  493.502</td> <td>    5.510</td> <td> 0.000</td> <td> 1739.356</td> <td> 3698.542</td>\n",
              "</tr>\n",
              "<tr>\n",
              "  <th>view</th>  <td> 5.673e+04</td> <td> 4627.695</td> <td>   12.258</td> <td> 0.000</td> <td> 4.75e+04</td> <td> 6.59e+04</td>\n",
              "</tr>\n",
              "</table>\n",
              "<table class=\"simpletable\">\n",
              "<tr>\n",
              "  <th>Omnibus:</th>       <td>29.224</td> <th>  Durbin-Watson:     </th> <td>   1.965</td>\n",
              "</tr>\n",
              "<tr>\n",
              "  <th>Prob(Omnibus):</th> <td> 0.000</td> <th>  Jarque-Bera (JB):  </th> <td>  64.957</td>\n",
              "</tr>\n",
              "<tr>\n",
              "  <th>Skew:</th>          <td> 1.088</td> <th>  Prob(JB):          </th> <td>7.85e-15</td>\n",
              "</tr>\n",
              "<tr>\n",
              "  <th>Kurtosis:</th>      <td> 6.295</td> <th>  Cond. No.          </th> <td>9.42e+05</td>\n",
              "</tr>\n",
              "</table><br/><br/>Warnings:<br/>[1] Standard Errors assume that the covariance matrix of the errors is correctly specified.<br/>[2] The condition number is large, 9.42e+05. This might indicate that there are<br/>strong multicollinearity or other numerical problems."
            ],
            "text/plain": [
              "<class 'statsmodels.iolib.summary.Summary'>\n",
              "\"\"\"\n",
              "                            OLS Regression Results                            \n",
              "==============================================================================\n",
              "Dep. Variable:                  price   R-squared:                       0.913\n",
              "Model:                            OLS   Adj. R-squared:                  0.910\n",
              "Method:                 Least Squares   F-statistic:                     335.2\n",
              "Date:                Sun, 24 Oct 2021   Prob (F-statistic):           1.02e-50\n",
              "Time:                        04:39:38   Log-Likelihood:                -1144.6\n",
              "No. Observations:                 100   AIC:                             2297.\n",
              "Df Residuals:                      96   BIC:                             2308.\n",
              "Df Model:                           3                                         \n",
              "Covariance Type:            nonrobust                                         \n",
              "==============================================================================\n",
              "                 coef    std err          t      P>|t|      [0.025      0.975]\n",
              "------------------------------------------------------------------------------\n",
              "const      -5.398e+06   9.94e+05     -5.431      0.000   -7.37e+06   -3.43e+06\n",
              "size         223.0316      7.838     28.455      0.000     207.473     238.590\n",
              "year        2718.9489    493.502      5.510      0.000    1739.356    3698.542\n",
              "view        5.673e+04   4627.695     12.258      0.000    4.75e+04    6.59e+04\n",
              "==============================================================================\n",
              "Omnibus:                       29.224   Durbin-Watson:                   1.965\n",
              "Prob(Omnibus):                  0.000   Jarque-Bera (JB):               64.957\n",
              "Skew:                           1.088   Prob(JB):                     7.85e-15\n",
              "Kurtosis:                       6.295   Cond. No.                     9.42e+05\n",
              "==============================================================================\n",
              "\n",
              "Warnings:\n",
              "[1] Standard Errors assume that the covariance matrix of the errors is correctly specified.\n",
              "[2] The condition number is large, 9.42e+05. This might indicate that there are\n",
              "strong multicollinearity or other numerical problems.\n",
              "\"\"\""
            ]
          },
          "metadata": {},
          "execution_count": 17
        }
      ]
    },
    {
      "cell_type": "markdown",
      "metadata": {
        "id": "tGXoviBemxKX"
      },
      "source": [
        "## Plot the regression line(s) on the scatter plot and color the data points"
      ]
    },
    {
      "cell_type": "markdown",
      "metadata": {
        "id": "f1k9uVSc1Mvf"
      },
      "source": [
        "In the 3-D plot, note that the apartments with Sea view are on an average, 56730 units higher in price as compared to apartments with no seaview!\n"
      ]
    },
    {
      "cell_type": "code",
      "metadata": {
        "colab": {
          "base_uri": "https://localhost:8080/",
          "height": 294
        },
        "id": "p3y0ruJhm1GJ",
        "outputId": "2247c898-b311-4d6b-a9db-d9a8b1257417"
      },
      "source": [
        "# In this code I want to colour the points depending on Sea View\n",
        "# Note: This code would have been very easy in Seaborn\n",
        "\n",
        "# Create one scatter plot which contains all observations\n",
        "# Use the series 'Sea View' as color, and choose a colour map of our choice\n",
        "# The colour map I've chosen i.e. RdYlGn_r is completely arbitrary\n",
        "plt.scatter(data['year'],data['price'], c=data['view'],cmap='RdYlGn_r') ##scatter plot between year and price\n",
        "#Here, red = Sea View present\n",
        "#Green = Sea View Absent\n",
        "\n",
        "# Define the two regression equations (one with a dummy = 1, the other with dummy = 0)\n",
        "# We have those above already, but for the sake of consistency, we will also include them here\n",
        "yhat_no = (-5.398e+06) + 223.0316*data['size'] +\t2718.9489*data['year'] + (5.673e+04)*0\n",
        "yhat_yes =(-5.398e+06) + 223.0316*data['size'] +  2718.9489*data['year'] + (5.673e+04)*1\n",
        "\n",
        "# Plot the two regression lines\n",
        "fig = plt.plot(data['year'], yhat_no, lw=2, c='#006837')\n",
        "fig = plt.plot(data['year'], yhat_yes, lw=2, c='#a50026')\n",
        "# plt.xlabel('Size', fontsize = 20)\n",
        "plt.ylabel('Price', fontsize = 20)\n",
        "plt.xlabel('Year', fontsize = 20)\n",
        "plt.show()"
      ],
      "execution_count": null,
      "outputs": [
        {
          "output_type": "display_data",
          "data": {
            "image/png": "[encoded data removed]",
            "text/plain": [
              "<Figure size 432x288 with 1 Axes>"
            ]
          },
          "metadata": {
            "needs_background": "light"
          }
        }
      ]
    },
    {
      "cell_type": "code",
      "metadata": {
        "colab": {
          "base_uri": "https://localhost:8080/",
          "height": 479
        },
        "id": "CAQOYTnPqqJM",
        "outputId": "c09b3e4b-0685-47a0-83d2-4535e13fcbbc"
      },
      "source": [
        "from mpl_toolkits import mplot3d\n",
        "\n",
        "fig = plt.figure()\n",
        "\n",
        "# *** FORWARD VIEW ON 'YEAR' ATTRIBUTE ***\n",
        "# syntax for 3-D projection\n",
        "ax = plt.axes(projection ='3d')\n",
        " \n",
        "# defining all 3 axes\n",
        "x = data['year']\n",
        "y = data['size']\n",
        "z = data['price']\n",
        "z_no = yhat_no\n",
        "z_yes = yhat_yes\n",
        "\n",
        "ax.scatter(x, y, z, c=data['view'],cmap='RdYlGn_r')\n",
        "\n",
        "# plotting\n",
        "ax.plot3D(x, y, z_no, lw=2, c='#006837') # a line through the points\n",
        "ax.plot3D(x, y, z_yes, lw=2, c='#a50026')\n",
        "\n",
        "ax.set_title('3D Scatter plot1')\n",
        "plt.ylabel('Size', fontsize = 20)\n",
        "# plt.xlabel('size', fontsize = 20)\n",
        "plt.xlabel('Year', fontsize = 20)\n",
        "plt.show()\n",
        "\n",
        "\n",
        "# *** FORWARD VIEW ON 'SIZE' ATTRIBUTE ***\n",
        "# syntax for 3-D projection\n",
        "ax2 = plt.axes(projection ='3d')\n",
        " \n",
        "# defining all 3 axes\n",
        "y2 = data['year']\n",
        "x2 = data['size']\n",
        "z2 = data['price']\n",
        "z2_no = yhat_no\n",
        "z2_yes = yhat_yes\n",
        "\n",
        "ax2.scatter(x2, y2, z2, c=data['view'],cmap='RdYlGn_r')\n",
        "\n",
        "# plotting\n",
        "ax2.plot3D(x2, y2, z2_no, lw=2, c='#006837') # a line through the points\n",
        "ax2.plot3D(x2, y2, z2_yes, lw=2, c='#a50026')\n",
        "\n",
        "ax2.set_title('3D Scatter plot1')\n",
        "plt.ylabel('Year', fontsize = 20)\n",
        "# plt.xlabel('size', fontsize = 20)\n",
        "plt.xlabel('Size', fontsize = 20)\n",
        "plt.show()"
      ],
      "execution_count": null,
      "outputs": [
        {
          "output_type": "display_data",
          "data": {
            "image/png": "[encoded data removed]",
            "text/plain": [
              "<Figure size 432x288 with 1 Axes>"
            ]
          },
          "metadata": {
            "needs_background": "light"
          }
        },
        {
          "output_type": "display_data",
          "data": {
            "image/png": "[encoded data removed]",
            "text/plain": [
              "<Figure size 432x288 with 1 Axes>"
            ]
          },
          "metadata": {
            "needs_background": "light"
          }
        }
      ]
    }
  ]
}